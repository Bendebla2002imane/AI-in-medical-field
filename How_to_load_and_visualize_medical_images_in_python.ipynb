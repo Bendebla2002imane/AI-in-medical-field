{
  "nbformat": 4,
  "nbformat_minor": 0,
  "metadata": {
    "colab": {
      "name": "How to load and visualize medical images in python.ipynb",
      "provenance": [],
      "collapsed_sections": [],
      "authorship_tag": "ABX9TyPNrSrWQoq8Lwzk5PrATOIA",
      "include_colab_link": true
    },
    "kernelspec": {
      "name": "python3",
      "display_name": "Python 3"
    },
    "language_info": {
      "name": "python"
    },
    "widgets": {
      "application/vnd.jupyter.widget-state+json": {
        "2980b287f9444243b83ca8e631b6cbc4": {
          "model_module": "@jupyter-widgets/controls",
          "model_name": "VBoxModel",
          "model_module_version": "1.5.0",
          "state": {
            "_view_name": "VBoxView",
            "_dom_classes": [
              "widget-interact"
            ],
            "_model_name": "VBoxModel",
            "_view_module": "@jupyter-widgets/controls",
            "_model_module_version": "1.5.0",
            "_view_count": null,
            "_view_module_version": "1.5.0",
            "box_style": "",
            "layout": "IPY_MODEL_32e62f2ada53479b99467e5cbae8a987",
            "_model_module": "@jupyter-widgets/controls",
            "children": [
              "IPY_MODEL_78cebfa9a2a44d4494add2d05eed2381",
              "IPY_MODEL_2b9d4defea1140d78c143432849d79bc",
              "IPY_MODEL_3febe92bf2c14757959f369f36051fb3",
              "IPY_MODEL_1341bc7e6ae549dd959a4b6e2d399ad8",
              "IPY_MODEL_e8755da35f6c4e2d9fdac1cc4ea9c33a"
            ]
          }
        },
        "32e62f2ada53479b99467e5cbae8a987": {
          "model_module": "@jupyter-widgets/base",
          "model_name": "LayoutModel",
          "model_module_version": "1.2.0",
          "state": {
            "_view_name": "LayoutView",
            "grid_template_rows": null,
            "right": null,
            "justify_content": null,
            "_view_module": "@jupyter-widgets/base",
            "overflow": null,
            "_model_module_version": "1.2.0",
            "_view_count": null,
            "flex_flow": null,
            "width": null,
            "min_width": null,
            "border": null,
            "align_items": null,
            "bottom": null,
            "_model_module": "@jupyter-widgets/base",
            "top": null,
            "grid_column": null,
            "overflow_y": null,
            "overflow_x": null,
            "grid_auto_flow": null,
            "grid_area": null,
            "grid_template_columns": null,
            "flex": null,
            "_model_name": "LayoutModel",
            "justify_items": null,
            "grid_row": null,
            "max_height": null,
            "align_content": null,
            "visibility": null,
            "align_self": null,
            "height": null,
            "min_height": null,
            "padding": null,
            "grid_auto_rows": null,
            "grid_gap": null,
            "max_width": null,
            "order": null,
            "_view_module_version": "1.2.0",
            "grid_template_areas": null,
            "object_position": null,
            "object_fit": null,
            "grid_auto_columns": null,
            "margin": null,
            "display": null,
            "left": null
          }
        },
        "78cebfa9a2a44d4494add2d05eed2381": {
          "model_module": "@jupyter-widgets/controls",
          "model_name": "IntSliderModel",
          "model_module_version": "1.5.0",
          "state": {
            "_view_name": "IntSliderView",
            "style": "IPY_MODEL_804e053d383c4ffab86f2b5c184e2221",
            "_dom_classes": [],
            "description": "layer",
            "step": 1,
            "_model_name": "IntSliderModel",
            "orientation": "horizontal",
            "max": 154,
            "_view_module": "@jupyter-widgets/controls",
            "_model_module_version": "1.5.0",
            "value": 76,
            "_view_count": null,
            "disabled": false,
            "_view_module_version": "1.5.0",
            "min": 0,
            "continuous_update": true,
            "readout_format": "d",
            "description_tooltip": null,
            "readout": true,
            "_model_module": "@jupyter-widgets/controls",
            "layout": "IPY_MODEL_00a64c1412c641038a4a5ec4d8b50463"
          }
        },
        "2b9d4defea1140d78c143432849d79bc": {
          "model_module": "@jupyter-widgets/controls",
          "model_name": "DropdownModel",
          "model_module_version": "1.5.0",
          "state": {
            "_options_labels": [
              "t1",
              "t2",
              "t1ce",
              "flair"
            ],
            "_view_name": "DropdownView",
            "style": "IPY_MODEL_77f81972ef66458aa4bf8c2c0fe13cd7",
            "_dom_classes": [],
            "description": "modality",
            "_model_name": "DropdownModel",
            "index": 3,
            "_view_module": "@jupyter-widgets/controls",
            "_model_module_version": "1.5.0",
            "_view_count": null,
            "disabled": false,
            "_view_module_version": "1.5.0",
            "description_tooltip": null,
            "_model_module": "@jupyter-widgets/controls",
            "layout": "IPY_MODEL_5b4c3024d07045d182589376513c9f53"
          }
        },
        "3febe92bf2c14757959f369f36051fb3": {
          "model_module": "@jupyter-widgets/controls",
          "model_name": "DropdownModel",
          "model_module_version": "1.5.0",
          "state": {
            "_options_labels": [
              "axial",
              "sagittal",
              "coronal"
            ],
            "_view_name": "DropdownView",
            "style": "IPY_MODEL_9229061bd5dc44efbfa15d99b10cc96a",
            "_dom_classes": [],
            "description": "view",
            "_model_name": "DropdownModel",
            "index": 0,
            "_view_module": "@jupyter-widgets/controls",
            "_model_module_version": "1.5.0",
            "_view_count": null,
            "disabled": false,
            "_view_module_version": "1.5.0",
            "description_tooltip": null,
            "_model_module": "@jupyter-widgets/controls",
            "layout": "IPY_MODEL_fe03a65fe3f542cda9f3f7b11b42a11a"
          }
        },
        "1341bc7e6ae549dd959a4b6e2d399ad8": {
          "model_module": "@jupyter-widgets/controls",
          "model_name": "IntSliderModel",
          "model_module_version": "1.5.0",
          "state": {
            "_view_name": "IntSliderView",
            "style": "IPY_MODEL_7ca771875dfd42529f299ddd5360c878",
            "_dom_classes": [],
            "description": "patient",
            "step": 1,
            "_model_name": "IntSliderModel",
            "orientation": "horizontal",
            "max": 284,
            "_view_module": "@jupyter-widgets/controls",
            "_model_module_version": "1.5.0",
            "value": 181,
            "_view_count": null,
            "disabled": false,
            "_view_module_version": "1.5.0",
            "min": 0,
            "continuous_update": true,
            "readout_format": "d",
            "description_tooltip": null,
            "readout": true,
            "_model_module": "@jupyter-widgets/controls",
            "layout": "IPY_MODEL_89978011e6124d68b2fd8b4a97365a45"
          }
        },
        "e8755da35f6c4e2d9fdac1cc4ea9c33a": {
          "model_module": "@jupyter-widgets/output",
          "model_name": "OutputModel",
          "model_module_version": "1.0.0",
          "state": {
            "_view_name": "OutputView",
            "msg_id": "",
            "_dom_classes": [],
            "_model_name": "OutputModel",
            "outputs": [
              {
                "output_type": "display_data",
                "data": {
                  "image/png": "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\n",
                  "text/plain": "<Figure size 720x360 with 1 Axes>"
                },
                "metadata": {
                  "needs_background": "light"
                }
              }
            ],
            "_view_module": "@jupyter-widgets/output",
            "_model_module_version": "1.0.0",
            "_view_count": null,
            "_view_module_version": "1.0.0",
            "layout": "IPY_MODEL_26a71d63921b4573b42a1fcb720e5451",
            "_model_module": "@jupyter-widgets/output"
          }
        },
        "804e053d383c4ffab86f2b5c184e2221": {
          "model_module": "@jupyter-widgets/controls",
          "model_name": "SliderStyleModel",
          "model_module_version": "1.5.0",
          "state": {
            "_view_name": "StyleView",
            "handle_color": null,
            "_model_name": "SliderStyleModel",
            "description_width": "",
            "_view_module": "@jupyter-widgets/base",
            "_model_module_version": "1.5.0",
            "_view_count": null,
            "_view_module_version": "1.2.0",
            "_model_module": "@jupyter-widgets/controls"
          }
        },
        "00a64c1412c641038a4a5ec4d8b50463": {
          "model_module": "@jupyter-widgets/base",
          "model_name": "LayoutModel",
          "model_module_version": "1.2.0",
          "state": {
            "_view_name": "LayoutView",
            "grid_template_rows": null,
            "right": null,
            "justify_content": null,
            "_view_module": "@jupyter-widgets/base",
            "overflow": null,
            "_model_module_version": "1.2.0",
            "_view_count": null,
            "flex_flow": null,
            "width": null,
            "min_width": null,
            "border": null,
            "align_items": null,
            "bottom": null,
            "_model_module": "@jupyter-widgets/base",
            "top": null,
            "grid_column": null,
            "overflow_y": null,
            "overflow_x": null,
            "grid_auto_flow": null,
            "grid_area": null,
            "grid_template_columns": null,
            "flex": null,
            "_model_name": "LayoutModel",
            "justify_items": null,
            "grid_row": null,
            "max_height": null,
            "align_content": null,
            "visibility": null,
            "align_self": null,
            "height": null,
            "min_height": null,
            "padding": null,
            "grid_auto_rows": null,
            "grid_gap": null,
            "max_width": null,
            "order": null,
            "_view_module_version": "1.2.0",
            "grid_template_areas": null,
            "object_position": null,
            "object_fit": null,
            "grid_auto_columns": null,
            "margin": null,
            "display": null,
            "left": null
          }
        },
        "77f81972ef66458aa4bf8c2c0fe13cd7": {
          "model_module": "@jupyter-widgets/controls",
          "model_name": "DescriptionStyleModel",
          "model_module_version": "1.5.0",
          "state": {
            "_view_name": "StyleView",
            "_model_name": "DescriptionStyleModel",
            "description_width": "",
            "_view_module": "@jupyter-widgets/base",
            "_model_module_version": "1.5.0",
            "_view_count": null,
            "_view_module_version": "1.2.0",
            "_model_module": "@jupyter-widgets/controls"
          }
        },
        "5b4c3024d07045d182589376513c9f53": {
          "model_module": "@jupyter-widgets/base",
          "model_name": "LayoutModel",
          "model_module_version": "1.2.0",
          "state": {
            "_view_name": "LayoutView",
            "grid_template_rows": null,
            "right": null,
            "justify_content": null,
            "_view_module": "@jupyter-widgets/base",
            "overflow": null,
            "_model_module_version": "1.2.0",
            "_view_count": null,
            "flex_flow": null,
            "width": null,
            "min_width": null,
            "border": null,
            "align_items": null,
            "bottom": null,
            "_model_module": "@jupyter-widgets/base",
            "top": null,
            "grid_column": null,
            "overflow_y": null,
            "overflow_x": null,
            "grid_auto_flow": null,
            "grid_area": null,
            "grid_template_columns": null,
            "flex": null,
            "_model_name": "LayoutModel",
            "justify_items": null,
            "grid_row": null,
            "max_height": null,
            "align_content": null,
            "visibility": null,
            "align_self": null,
            "height": null,
            "min_height": null,
            "padding": null,
            "grid_auto_rows": null,
            "grid_gap": null,
            "max_width": null,
            "order": null,
            "_view_module_version": "1.2.0",
            "grid_template_areas": null,
            "object_position": null,
            "object_fit": null,
            "grid_auto_columns": null,
            "margin": null,
            "display": null,
            "left": null
          }
        },
        "9229061bd5dc44efbfa15d99b10cc96a": {
          "model_module": "@jupyter-widgets/controls",
          "model_name": "DescriptionStyleModel",
          "model_module_version": "1.5.0",
          "state": {
            "_view_name": "StyleView",
            "_model_name": "DescriptionStyleModel",
            "description_width": "",
            "_view_module": "@jupyter-widgets/base",
            "_model_module_version": "1.5.0",
            "_view_count": null,
            "_view_module_version": "1.2.0",
            "_model_module": "@jupyter-widgets/controls"
          }
        },
        "fe03a65fe3f542cda9f3f7b11b42a11a": {
          "model_module": "@jupyter-widgets/base",
          "model_name": "LayoutModel",
          "model_module_version": "1.2.0",
          "state": {
            "_view_name": "LayoutView",
            "grid_template_rows": null,
            "right": null,
            "justify_content": null,
            "_view_module": "@jupyter-widgets/base",
            "overflow": null,
            "_model_module_version": "1.2.0",
            "_view_count": null,
            "flex_flow": null,
            "width": null,
            "min_width": null,
            "border": null,
            "align_items": null,
            "bottom": null,
            "_model_module": "@jupyter-widgets/base",
            "top": null,
            "grid_column": null,
            "overflow_y": null,
            "overflow_x": null,
            "grid_auto_flow": null,
            "grid_area": null,
            "grid_template_columns": null,
            "flex": null,
            "_model_name": "LayoutModel",
            "justify_items": null,
            "grid_row": null,
            "max_height": null,
            "align_content": null,
            "visibility": null,
            "align_self": null,
            "height": null,
            "min_height": null,
            "padding": null,
            "grid_auto_rows": null,
            "grid_gap": null,
            "max_width": null,
            "order": null,
            "_view_module_version": "1.2.0",
            "grid_template_areas": null,
            "object_position": null,
            "object_fit": null,
            "grid_auto_columns": null,
            "margin": null,
            "display": null,
            "left": null
          }
        },
        "7ca771875dfd42529f299ddd5360c878": {
          "model_module": "@jupyter-widgets/controls",
          "model_name": "SliderStyleModel",
          "model_module_version": "1.5.0",
          "state": {
            "_view_name": "StyleView",
            "handle_color": null,
            "_model_name": "SliderStyleModel",
            "description_width": "",
            "_view_module": "@jupyter-widgets/base",
            "_model_module_version": "1.5.0",
            "_view_count": null,
            "_view_module_version": "1.2.0",
            "_model_module": "@jupyter-widgets/controls"
          }
        },
        "89978011e6124d68b2fd8b4a97365a45": {
          "model_module": "@jupyter-widgets/base",
          "model_name": "LayoutModel",
          "model_module_version": "1.2.0",
          "state": {
            "_view_name": "LayoutView",
            "grid_template_rows": null,
            "right": null,
            "justify_content": null,
            "_view_module": "@jupyter-widgets/base",
            "overflow": null,
            "_model_module_version": "1.2.0",
            "_view_count": null,
            "flex_flow": null,
            "width": null,
            "min_width": null,
            "border": null,
            "align_items": null,
            "bottom": null,
            "_model_module": "@jupyter-widgets/base",
            "top": null,
            "grid_column": null,
            "overflow_y": null,
            "overflow_x": null,
            "grid_auto_flow": null,
            "grid_area": null,
            "grid_template_columns": null,
            "flex": null,
            "_model_name": "LayoutModel",
            "justify_items": null,
            "grid_row": null,
            "max_height": null,
            "align_content": null,
            "visibility": null,
            "align_self": null,
            "height": null,
            "min_height": null,
            "padding": null,
            "grid_auto_rows": null,
            "grid_gap": null,
            "max_width": null,
            "order": null,
            "_view_module_version": "1.2.0",
            "grid_template_areas": null,
            "object_position": null,
            "object_fit": null,
            "grid_auto_columns": null,
            "margin": null,
            "display": null,
            "left": null
          }
        },
        "26a71d63921b4573b42a1fcb720e5451": {
          "model_module": "@jupyter-widgets/base",
          "model_name": "LayoutModel",
          "model_module_version": "1.2.0",
          "state": {
            "_view_name": "LayoutView",
            "grid_template_rows": null,
            "right": null,
            "justify_content": null,
            "_view_module": "@jupyter-widgets/base",
            "overflow": null,
            "_model_module_version": "1.2.0",
            "_view_count": null,
            "flex_flow": null,
            "width": null,
            "min_width": null,
            "border": null,
            "align_items": null,
            "bottom": null,
            "_model_module": "@jupyter-widgets/base",
            "top": null,
            "grid_column": null,
            "overflow_y": null,
            "overflow_x": null,
            "grid_auto_flow": null,
            "grid_area": null,
            "grid_template_columns": null,
            "flex": null,
            "_model_name": "LayoutModel",
            "justify_items": null,
            "grid_row": null,
            "max_height": null,
            "align_content": null,
            "visibility": null,
            "align_self": null,
            "height": null,
            "min_height": null,
            "padding": null,
            "grid_auto_rows": null,
            "grid_gap": null,
            "max_width": null,
            "order": null,
            "_view_module_version": "1.2.0",
            "grid_template_areas": null,
            "object_position": null,
            "object_fit": null,
            "grid_auto_columns": null,
            "margin": null,
            "display": null,
            "left": null
          }
        }
      }
    }
  },
  "cells": [
    {
      "cell_type": "markdown",
      "metadata": {
        "id": "view-in-github",
        "colab_type": "text"
      },
      "source": [
        "<a href=\"https://colab.research.google.com/github/FBehrad/AI-in-medical-field/blob/main/How_to_load_and_visualize_medical_images_in_python.ipynb\" target=\"_parent\"><img src=\"https://colab.research.google.com/assets/colab-badge.svg\" alt=\"Open In Colab\"/></a>"
      ]
    },
    {
      "cell_type": "markdown",
      "metadata": {
        "id": "oMiPhx4JiSRc"
      },
      "source": [
        "1. Connect to google drive"
      ]
    },
    {
      "cell_type": "code",
      "metadata": {
        "id": "euY9HX1ZfJxk",
        "colab": {
          "base_uri": "https://localhost:8080/"
        },
        "outputId": "ed659238-bcb2-41ba-96a0-7121f7964bfa"
      },
      "source": [
        "from google.colab import drive\n",
        "drive.mount('/content/drive')"
      ],
      "execution_count": null,
      "outputs": [
        {
          "output_type": "stream",
          "name": "stdout",
          "text": [
            "Mounted at /content/drive\n"
          ]
        }
      ]
    },
    {
      "cell_type": "markdown",
      "metadata": {
        "id": "dDjEqqdGjinu"
      },
      "source": [
        "2. Install required packages"
      ]
    },
    {
      "cell_type": "code",
      "metadata": {
        "id": "wQ4E4ETxjnyK",
        "colab": {
          "base_uri": "https://localhost:8080/"
        },
        "outputId": "a8d7b3fd-8f1d-4f48-844d-6322adbf398e"
      },
      "source": [
        "!pip install SimpleITK \n",
        "!pip install nibabel"
      ],
      "execution_count": null,
      "outputs": [
        {
          "output_type": "stream",
          "name": "stdout",
          "text": [
            "Collecting SimpleITK\n",
            "  Downloading SimpleITK-2.1.1-cp37-cp37m-manylinux_2_12_x86_64.manylinux2010_x86_64.whl (48.4 MB)\n",
            "\u001b[K     |████████████████████████████████| 48.4 MB 5.3 kB/s \n",
            "\u001b[?25hInstalling collected packages: SimpleITK\n",
            "Successfully installed SimpleITK-2.1.1\n",
            "Requirement already satisfied: nibabel in /usr/local/lib/python3.7/dist-packages (3.0.2)\n",
            "Requirement already satisfied: numpy>=1.12 in /usr/local/lib/python3.7/dist-packages (from nibabel) (1.19.5)\n"
          ]
        }
      ]
    },
    {
      "cell_type": "markdown",
      "metadata": {
        "id": "ywYhcFq8iLgW"
      },
      "source": [
        "3. Import reqired libraries"
      ]
    },
    {
      "cell_type": "code",
      "metadata": {
        "id": "REvePVl1ifxN"
      },
      "source": [
        "import zipfile  # For file extraction\n",
        "import glob  # For retrieving files/pathnames matching a specified pattern\n",
        "import re # specifies a set of strings that matches it\n",
        "import SimpleITK as sitk\n",
        "import nibabel as nib\n",
        "import numpy as np\n",
        "import matplotlib.pyplot as plt\n",
        "from ipywidgets import interact, interactive, IntSlider, ToggleButtons"
      ],
      "execution_count": null,
      "outputs": []
    },
    {
      "cell_type": "markdown",
      "metadata": {
        "id": "fJoouNO-iw6i"
      },
      "source": [
        "4. Extract datasets"
      ]
    },
    {
      "cell_type": "code",
      "metadata": {
        "id": "QebgAtz1iou9"
      },
      "source": [
        "def extract_dataset(addr,folder_name):\n",
        "  dataset_path = addr \n",
        "  zfile = zipfile.ZipFile(dataset_path)\n",
        "  zfile.extractall(folder_name)"
      ],
      "execution_count": null,
      "outputs": []
    },
    {
      "cell_type": "code",
      "metadata": {
        "id": "sXKFXkaciwFS"
      },
      "source": [
        "extract_dataset('/content/drive/MyDrive/MICCAI_BraTS_2018_Data_Training.zip','Training') # Replace with your dataset path"
      ],
      "execution_count": null,
      "outputs": []
    },
    {
      "cell_type": "code",
      "metadata": {
        "colab": {
          "base_uri": "https://localhost:8080/"
        },
        "id": "hCTTKo-q8_pR",
        "outputId": "69c01e99-9d9a-48fd-858d-b9fc5f4996ae"
      },
      "source": [
        "t1 = glob.glob('/content/Training/*GG/*/*t1.nii.gz')\n",
        "t2 = glob.glob('/content/Training/*GG/*/*t2.nii.gz')\n",
        "flair = glob.glob('/content/Training/*GG/*/*flair.nii.gz')\n",
        "t1ce = glob.glob('/content/Training/*GG/*/*t1ce.nii.gz')\n",
        "seg = glob.glob('/content/Training/*GG/*/*seg.nii.gz')  # Ground Truth\n",
        "pattern = re.compile('/content/Training/.*_(\\w*)\\.nii\\.gz')\n",
        "\n",
        "data_paths = [{\n",
        "    pattern.findall(item)[0]:item for item in items\n",
        "}\n",
        "for items in list(zip(t1, t2, t1ce, flair, seg))]\n",
        "\n",
        "print('number of training examples' ,len(data_paths))\n",
        "print(data_paths[0])"
      ],
      "execution_count": null,
      "outputs": [
        {
          "output_type": "stream",
          "name": "stdout",
          "text": [
            "number of training examples 285\n",
            "{'t1': '/content/Training/LGG/Brats18_TCIA10_442_1/Brats18_TCIA10_442_1_t1.nii.gz', 't2': '/content/Training/LGG/Brats18_TCIA10_442_1/Brats18_TCIA10_442_1_t2.nii.gz', 't1ce': '/content/Training/LGG/Brats18_TCIA10_442_1/Brats18_TCIA10_442_1_t1ce.nii.gz', 'flair': '/content/Training/LGG/Brats18_TCIA10_442_1/Brats18_TCIA10_442_1_flair.nii.gz', 'seg': '/content/Training/LGG/Brats18_TCIA10_442_1/Brats18_TCIA10_442_1_seg.nii.gz'}\n"
          ]
        }
      ]
    },
    {
      "cell_type": "markdown",
      "metadata": {
        "id": "S-coH2pyjIVp"
      },
      "source": [
        "5. Read images"
      ]
    },
    {
      "cell_type": "code",
      "metadata": {
        "id": "_YYD2nF6jKjJ"
      },
      "source": [
        "def read_img_sitk(img_path):\n",
        "  image_data = sitk.ReadImage(img_path)\n",
        "  return image_data "
      ],
      "execution_count": null,
      "outputs": []
    },
    {
      "cell_type": "code",
      "metadata": {
        "id": "Lbp8rDpJjLXB"
      },
      "source": [
        "def read_img_nii(img_path):\n",
        "  image_data = np.array(nib.load(img_path).get_fdata())\n",
        "  return image_data  "
      ],
      "execution_count": null,
      "outputs": []
    },
    {
      "cell_type": "code",
      "metadata": {
        "id": "20RxRfKLkX5t"
      },
      "source": [
        "np_img = read_img_nii(data_paths[0]['flair'])\n",
        "sitk_img = read_img_sitk(data_paths[0]['flair'])"
      ],
      "execution_count": null,
      "outputs": []
    },
    {
      "cell_type": "code",
      "metadata": {
        "colab": {
          "base_uri": "https://localhost:8080/"
        },
        "id": "ElBmqS4PuWOp",
        "outputId": "29d44169-b511-422c-afeb-8630584f54f6"
      },
      "source": [
        "#Check shape of images\n",
        "\n",
        "np_shape = np_img.shape\n",
        "sitk_shape = sitk_img.GetSize()\n",
        "print(\"Shape of np_img : \", np_shape)\n",
        "print(\"Shape of sitk_img : \", sitk_shape)"
      ],
      "execution_count": null,
      "outputs": [
        {
          "output_type": "stream",
          "name": "stdout",
          "text": [
            "Shape of np_img :  (240, 240, 155)\n",
            "Shape of sitk_img :  (240, 240, 155)\n"
          ]
        }
      ]
    },
    {
      "cell_type": "markdown",
      "metadata": {
        "id": "HecrS_hxccqo"
      },
      "source": [
        "6. Conversion between numpy and SimpleITK"
      ]
    },
    {
      "cell_type": "code",
      "metadata": {
        "id": "EglnU_rBcbHV"
      },
      "source": [
        "sitk_img2 = sitk.GetImageFromArray(np_img)"
      ],
      "execution_count": null,
      "outputs": []
    },
    {
      "cell_type": "code",
      "metadata": {
        "colab": {
          "base_uri": "https://localhost:8080/"
        },
        "id": "G-A4oZXLiN0H",
        "outputId": "07928e2e-5205-4918-d210-e33885c85ef1"
      },
      "source": [
        "sitk_img2.GetSize()"
      ],
      "execution_count": null,
      "outputs": [
        {
          "output_type": "execute_result",
          "data": {
            "text/plain": [
              "(155, 240, 240)"
            ]
          },
          "metadata": {},
          "execution_count": 12
        }
      ]
    },
    {
      "cell_type": "code",
      "metadata": {
        "id": "ckPnAEwgvRWg"
      },
      "source": [
        "np_img2 = sitk.GetArrayFromImage(sitk_img2)"
      ],
      "execution_count": null,
      "outputs": []
    },
    {
      "cell_type": "code",
      "metadata": {
        "colab": {
          "base_uri": "https://localhost:8080/"
        },
        "id": "2laWafQIif5u",
        "outputId": "a2587398-bdbe-42c1-c786-3d5cffed18ae"
      },
      "source": [
        "np_img2.shape"
      ],
      "execution_count": null,
      "outputs": [
        {
          "output_type": "execute_result",
          "data": {
            "text/plain": [
              "(240, 240, 155)"
            ]
          },
          "metadata": {},
          "execution_count": 14
        }
      ]
    },
    {
      "cell_type": "markdown",
      "metadata": {
        "id": "uug_fkmcjy2v"
      },
      "source": [
        "7. Visualize samples"
      ]
    },
    {
      "cell_type": "code",
      "metadata": {
        "id": "DB_HJdQOjW1E",
        "colab": {
          "base_uri": "https://localhost:8080/",
          "height": 445,
          "referenced_widgets": [
            "2980b287f9444243b83ca8e631b6cbc4",
            "32e62f2ada53479b99467e5cbae8a987",
            "78cebfa9a2a44d4494add2d05eed2381",
            "2b9d4defea1140d78c143432849d79bc",
            "3febe92bf2c14757959f369f36051fb3",
            "1341bc7e6ae549dd959a4b6e2d399ad8",
            "e8755da35f6c4e2d9fdac1cc4ea9c33a",
            "804e053d383c4ffab86f2b5c184e2221",
            "00a64c1412c641038a4a5ec4d8b50463",
            "77f81972ef66458aa4bf8c2c0fe13cd7",
            "5b4c3024d07045d182589376513c9f53",
            "9229061bd5dc44efbfa15d99b10cc96a",
            "fe03a65fe3f542cda9f3f7b11b42a11a",
            "7ca771875dfd42529f299ddd5360c878",
            "89978011e6124d68b2fd8b4a97365a45",
            "26a71d63921b4573b42a1fcb720e5451"
          ]
        },
        "outputId": "3d96fca5-0bc4-469e-e82e-e17a747806f7"
      },
      "source": [
        "@interact\n",
        "def explore_3dimage(layer = (0,154) , modality=['t1', 't2', 't1ce', 'flair'] , view = ['axial' , 'sagittal' , 'coronal'], patient= (0,284) ): \n",
        "    if modality == 't1':\n",
        "      modal = 't1'\n",
        "    elif modality == 't2':\n",
        "      modal = 't2'\n",
        "    elif modality == 't1ce':\n",
        "      modal = 't1ce'\n",
        "    elif modality == 'flair':\n",
        "      modal = 'flair'\n",
        "    else :\n",
        "      print(\"Error\")\n",
        "\n",
        "    \n",
        "    image = read_img_sitk(data_paths[patient][modal])\n",
        "    array_view = sitk.GetArrayViewFromImage(image)\n",
        "\n",
        "    if view == 'axial':\n",
        "      array_view = array_view[layer, :,:]\n",
        "    elif view == 'coronal':\n",
        "      array_view = array_view[:, layer, :]\n",
        "    elif view == 'sagittal':\n",
        "      array_view = array_view[:, : ,layer]\n",
        "    else:\n",
        "      print(\"Error\")\n",
        "\n",
        "    plt.figure(figsize=(10, 5))\n",
        "    plt.imshow(array_view, cmap='gray')\n",
        "    plt.title('Explore Layers of Brain', fontsize=10)\n",
        "    plt.axis('off')"
      ],
      "execution_count": null,
      "outputs": [
        {
          "output_type": "display_data",
          "data": {
            "application/vnd.jupyter.widget-view+json": {
              "model_id": "2980b287f9444243b83ca8e631b6cbc4",
              "version_minor": 0,
              "version_major": 2
            },
            "text/plain": [
              "interactive(children=(IntSlider(value=77, description='layer', max=154), Dropdown(description='modality', opti…"
            ]
          },
          "metadata": {}
        }
      ]
    },
    {
      "cell_type": "markdown",
      "metadata": {
        "id": "zT8IvMqCkKNM"
      },
      "source": [
        "8. Write images"
      ]
    },
    {
      "cell_type": "code",
      "metadata": {
        "id": "9sODY2pQkOs_"
      },
      "source": [
        "final_paths = '/content/example.nii.gz'\n",
        "sitk.WriteImage(sitk_img2,final_paths)"
      ],
      "execution_count": null,
      "outputs": []
    }
  ]
}